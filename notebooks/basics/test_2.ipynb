{
 "cells": [
  {
   "cell_type": "code",
   "execution_count": 1,
   "id": "306afd35-bab1-43ae-995a-254108ff7917",
   "metadata": {},
   "outputs": [
    {
     "name": "stdout",
     "output_type": "stream",
     "text": [
      "testing pynotes 2\n"
     ]
    }
   ],
   "source": [
    "print(\"testing pynotes 2\")"
   ]
  },
  {
   "cell_type": "code",
   "execution_count": null,
   "id": "c42abdd8-f00b-4194-92fe-d832b2273099",
   "metadata": {},
   "outputs": [],
   "source": []
  }
 ],
 "metadata": {
  "kernelspec": {
   "display_name": "Python 3 (ipykernel)",
   "language": "python",
   "name": "python3"
  },
  "language_info": {
   "codemirror_mode": {
    "name": "ipython",
    "version": 3
   },
   "file_extension": ".py",
   "mimetype": "text/x-python",
   "name": "python",
   "nbconvert_exporter": "python",
   "pygments_lexer": "ipython3",
   "version": "3.12.11"
  }
 },
 "nbformat": 4,
 "nbformat_minor": 5
}
