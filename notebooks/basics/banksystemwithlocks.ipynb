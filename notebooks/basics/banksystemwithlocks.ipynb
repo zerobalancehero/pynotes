{
 "cells": [
  {
   "cell_type": "code",
   "execution_count": 3,
   "id": "cc1a52a0-7bb2-433f-a42b-8bcca015c62e",
   "metadata": {},
   "outputs": [
    {
     "name": "stdout",
     "output_type": "stream",
     "text": [
      "Withdrawing 700\n",
      "New balance: 300\n",
      "Insufficient funds\n"
     ]
    }
   ],
   "source": [
    "import threading\n",
    "import time\n",
    "\n",
    "balance = 1000\n",
    "lock = threading.Lock()\n",
    "\n",
    "def withdraw(amount):\n",
    "    global balance\n",
    "    with lock:\n",
    "        if balance >= amount:\n",
    "            print(f\"Withdrawing {amount}\")\n",
    "            time.sleep(1)\n",
    "            balance -= amount\n",
    "            print(f\"New balance: {balance}\")\n",
    "        else:\n",
    "            print(\"Insufficient funds\")\n",
    "\n",
    "t1 = threading.Thread(target=withdraw, args=(700,))\n",
    "t2 = threading.Thread(target=withdraw, args=(500,))\n",
    "\n",
    "t1.start()\n",
    "t2.start()\n",
    "\n",
    "t1.join()\n",
    "t2.join()"
   ]
  },
  {
   "cell_type": "code",
   "execution_count": null,
   "id": "b27e3cf9-462b-4a24-bff3-875948149c63",
   "metadata": {},
   "outputs": [],
   "source": []
  }
 ],
 "metadata": {
  "kernelspec": {
   "display_name": "Python 3 (ipykernel)",
   "language": "python",
   "name": "python3"
  },
  "language_info": {
   "codemirror_mode": {
    "name": "ipython",
    "version": 3
   },
   "file_extension": ".py",
   "mimetype": "text/x-python",
   "name": "python",
   "nbconvert_exporter": "python",
   "pygments_lexer": "ipython3",
   "version": "3.12.11"
  }
 },
 "nbformat": 4,
 "nbformat_minor": 5
}
