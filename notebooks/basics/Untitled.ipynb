{
 "cells": [
  {
   "cell_type": "code",
   "execution_count": 1,
   "id": "f5691422-5405-4d35-a0c9-98f22e45409a",
   "metadata": {},
   "outputs": [
    {
     "name": "stdout",
     "output_type": "stream",
     "text": [
      "producing 0\n",
      "consuming0\n",
      "producing 1\n",
      "consuming1\n",
      "producing 2\n",
      "consuming2\n",
      "producing 3\n",
      "consuming3\n",
      "producing 4\n",
      "consuming4\n"
     ]
    }
   ],
   "source": [
    "import threading\n",
    "import queue\n",
    "import time\n",
    "q=queue.Queue()\n",
    "def producer():\n",
    "    for i in range (5):\n",
    "        print(f\"producing {i}\")\n",
    "        q.put(i)\n",
    "        time.sleep(1)\n",
    "def consumer():\n",
    "    while True:\n",
    "        item=q.get()\n",
    "        print(f\"consuming{item}\")\n",
    "        q.task_done()\n",
    "\n",
    "t1=threading.Thread(target=producer)\n",
    "t2=threading.Thread(target=consumer,daemon=True)\n",
    "\n",
    "t1.start()\n",
    "t2.start()\n",
    "\n",
    "t1.join()\n",
    "q.join()"
   ]
  }
 ],
 "metadata": {
  "kernelspec": {
   "display_name": "Python 3 (ipykernel)",
   "language": "python",
   "name": "python3"
  },
  "language_info": {
   "codemirror_mode": {
    "name": "ipython",
    "version": 3
   },
   "file_extension": ".py",
   "mimetype": "text/x-python",
   "name": "python",
   "nbconvert_exporter": "python",
   "pygments_lexer": "ipython3",
   "version": "3.12.11"
  }
 },
 "nbformat": 4,
 "nbformat_minor": 5
}
