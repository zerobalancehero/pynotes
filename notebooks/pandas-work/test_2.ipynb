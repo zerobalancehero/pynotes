{
 "cells": [
  {
   "cell_type": "code",
   "execution_count": 1,
   "id": "11a3b5ca-b8ca-420a-8fd5-ccb29285ff47",
   "metadata": {},
   "outputs": [
    {
     "name": "stdout",
     "output_type": "stream",
     "text": [
      "Collecting pandas\n",
      "  Downloading pandas-2.3.0-cp312-cp312-win_amd64.whl.metadata (19 kB)\n",
      "Requirement already satisfied: numpy>=1.26.0 in c:\\users\\sanjay\\miniconda3\\envs\\py312\\lib\\site-packages (from pandas) (2.3.1)\n",
      "Requirement already satisfied: python-dateutil>=2.8.2 in c:\\users\\sanjay\\miniconda3\\envs\\py312\\lib\\site-packages (from pandas) (2.9.0.post0)\n",
      "Requirement already satisfied: pytz>=2020.1 in c:\\users\\sanjay\\miniconda3\\envs\\py312\\lib\\site-packages (from pandas) (2025.2)\n",
      "Requirement already satisfied: tzdata>=2022.7 in c:\\users\\sanjay\\miniconda3\\envs\\py312\\lib\\site-packages (from pandas) (2025.2)\n",
      "Requirement already satisfied: six>=1.5 in c:\\users\\sanjay\\miniconda3\\envs\\py312\\lib\\site-packages (from python-dateutil>=2.8.2->pandas) (1.17.0)\n",
      "Downloading pandas-2.3.0-cp312-cp312-win_amd64.whl (11.0 MB)\n",
      "   ---------------------------------------- 0.0/11.0 MB ? eta -:--:--\n",
      "   ------ --------------------------------- 1.8/11.0 MB 12.6 MB/s eta 0:00:01\n",
      "   ---------------- ----------------------- 4.5/11.0 MB 11.2 MB/s eta 0:00:01\n",
      "   ------------------------ --------------- 6.8/11.0 MB 11.3 MB/s eta 0:00:01\n",
      "   --------------------------------- ------ 9.2/11.0 MB 11.4 MB/s eta 0:00:01\n",
      "   ---------------------------------------- 11.0/11.0 MB 11.2 MB/s eta 0:00:00\n",
      "Installing collected packages: pandas\n",
      "Successfully installed pandas-2.3.0\n",
      "Note: you may need to restart the kernel to use updated packages.\n"
     ]
    }
   ],
   "source": [
    "pip install pandas"
   ]
  },
  {
   "cell_type": "code",
   "execution_count": 2,
   "id": "306afd35-bab1-43ae-995a-254108ff7917",
   "metadata": {},
   "outputs": [
    {
     "name": "stdout",
     "output_type": "stream",
     "text": [
      "testing pynotes 2\n"
     ]
    }
   ],
   "source": [
    "print(\"testing pynotes 2\")"
   ]
  },
  {
   "cell_type": "code",
   "execution_count": 1,
   "id": "36316e32-60c4-42dc-9f69-241f5d857b96",
   "metadata": {},
   "outputs": [
    {
     "name": "stdout",
     "output_type": "stream",
     "text": [
      "     Name  score\n",
      "0  sanjay     85\n",
      "1    asha     90\n",
      "2    ravi     78\n",
      "     Name  Age  Subject  Score\n",
      "0  Sanjay   18     Math     85\n",
      "1    Asha   17  Science     90\n",
      "2    Ravi   18  English     78\n",
      "3   Meena   17     Math     92\n",
      "4   Kiran   19  Science     88\n",
      "\n",
      "     Name  Age  Subject  Score\n",
      "0  Sanjay   18     Math     85\n",
      "1    Asha   17  Science     90\n",
      "2    Ravi   18  English     78\n",
      "3   Meena   17     Math     92\n",
      "4   Kiran   19  Science     88\n",
      "\n",
      "     Name  Age  Subject  Score\n",
      "0  Sanjay   18     Math     85\n",
      "1    Asha   17  Science     90\n",
      "2    Ravi   18  English     78\n",
      "3   Meena   17     Math     92\n",
      "4   Kiran   19  Science     88\n",
      "\n",
      "0    85\n",
      "1    90\n",
      "2    78\n",
      "3    92\n",
      "4    88\n",
      "Name: Score, dtype: int64\n",
      "\n",
      "     Name  Score\n",
      "0  Sanjay     85\n",
      "1    Asha     90\n",
      "2    Ravi     78\n",
      "3   Meena     92\n",
      "4   Kiran     88\n",
      "\n",
      "    Name  Age  Subject  Score\n",
      "1   Asha   17  Science     90\n",
      "3  Meena   17     Math     92\n",
      "4  Kiran   19  Science     88\n",
      "\n",
      "     Name  Age  Subject  Score\n",
      "0  Sanjay   18     Math     85\n",
      "1    Asha   17  Science     90\n",
      "2    Ravi   18  English     78\n",
      "3   Meena   17     Math     92\n",
      "4   Kiran   19  Science     88\n",
      "\n",
      "     Name  Age  Subject  Score  Passed\n",
      "0  Sanjay   18     Math     85    True\n",
      "1    Asha   17  Science     90    True\n",
      "2    Ravi   18  English     78   False\n",
      "3   Meena   17     Math     92    True\n",
      "4   Kiran   19  Science     88    True\n",
      "\n",
      "Subject\n",
      "English    78.0\n",
      "Math       88.5\n",
      "Science    89.0\n",
      "Name: Score, dtype: float64\n"
     ]
    }
   ],
   "source": [
    "import pandas as pd\n",
    "data={\n",
    "    'Name':['sanjay','asha','ravi'],\n",
    "    'score':[85,90,78]\n",
    "}\n",
    "df=pd.DataFrame(data)\n",
    "print(df)\n",
    "df_csv=pd.read_csv(\"students.csv\")\n",
    "print(df_csv)\n",
    "print()\n",
    "print(df_csv.head())\n",
    "print()\n",
    "print(df_csv.tail())\n",
    "print()\n",
    "print(df_csv[\"Score\"])\n",
    "print()\n",
    "print(df_csv[[\"Name\",\"Score\"]] )\n",
    "print()\n",
    "print(df_csv[df_csv[\"Score\"]>85])\n",
    "print()\n",
    "print(df_csv)\n",
    "print()\n",
    "df_csv[\"Passed\"]=df_csv[\"Score\"]>=80\n",
    "print(df_csv)\n",
    "print()\n",
    "print(df_csv.groupby(\"Subject\")[\"Score\"].mean())\n"
   ]
  },
  {
   "cell_type": "code",
   "execution_count": null,
   "id": "7208d788-1dc1-4b76-8816-57bbc112b0eb",
   "metadata": {},
   "outputs": [],
   "source": []
  }
 ],
 "metadata": {
  "kernelspec": {
   "display_name": "Python 3 (ipykernel)",
   "language": "python",
   "name": "python3"
  },
  "language_info": {
   "codemirror_mode": {
    "name": "ipython",
    "version": 3
   },
   "file_extension": ".py",
   "mimetype": "text/x-python",
   "name": "python",
   "nbconvert_exporter": "python",
   "pygments_lexer": "ipython3",
   "version": "3.12.11"
  }
 },
 "nbformat": 4,
 "nbformat_minor": 5
}
